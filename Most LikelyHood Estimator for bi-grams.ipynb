{
 "cells": [
  {
   "cell_type": "code",
   "execution_count": 1,
   "id": "8bf88ec3",
   "metadata": {},
   "outputs": [
    {
     "name": "stdout",
     "output_type": "stream",
     "text": [
      "SASTRA : 4\n",
      "UNIVERSITY : 3\n",
      "is : 4\n",
      "a : 2\n",
      "well : 1\n",
      "known : 1\n",
      "institution : 2\n",
      "located : 1\n",
      "at : 1\n",
      "Thanjavur : 1\n",
      "category : 1\n",
      "one : 1\n",
      "management : 1\n",
      "focussing : 1\n",
      "on : 1\n",
      "quality : 1\n",
      "education : 1\n",
      "and : 1\n",
      "placement : 1\n"
     ]
    }
   ],
   "source": [
    "#split the paragraph and find the count of each word\n",
    "data = \"SASTRA UNIVERSITY is a well known institution SASTRA UNIVERSITY is located at Thanjavur SASTRA UNIVERSITY is a category one institution SASTRA management is focussing on quality education and placement\"\n",
    "words = data.split()\n",
    "unigram_count = {}\n",
    "for word in words:\n",
    "        word = word.strip(\",.?!\")\n",
    "        if word in unigram_count:\n",
    "            unigram_count[word] += 1\n",
    "        else:\n",
    "            unigram_count[word] = 1\n",
    "for word,count in unigram_count.items():\n",
    "    print(word, \":\", count)\n"
   ]
  },
  {
   "cell_type": "code",
   "execution_count": 8,
   "id": "b2dd8159",
   "metadata": {},
   "outputs": [
    {
     "name": "stdout",
     "output_type": "stream",
     "text": [
      "('SASTRA', 'UNIVERSITY') : 3\n",
      "('UNIVERSITY', 'is') : 3\n",
      "('is', 'a') : 2\n",
      "('a', 'well') : 1\n",
      "('well', 'known') : 1\n",
      "('known', 'institution') : 1\n",
      "('institution', 'SASTRA') : 2\n",
      "('is', 'located') : 1\n",
      "('located', 'at') : 1\n",
      "('at', 'Thanjavur') : 1\n",
      "('Thanjavur', 'SASTRA') : 1\n",
      "('a', 'category') : 1\n",
      "('category', 'one') : 1\n",
      "('one', 'institution') : 1\n",
      "('SASTRA', 'management') : 1\n",
      "('management', 'is') : 1\n",
      "('is', 'focussing') : 1\n",
      "('focussing', 'on') : 1\n",
      "('on', 'quality') : 1\n",
      "('quality', 'education') : 1\n",
      "('education', 'and') : 1\n",
      "('and', 'placement') : 1\n"
     ]
    }
   ],
   "source": [
    "#count no of bigrams\n",
    "\n",
    "bigram_count = {}\n",
    "\n",
    "for i in range(len(words) - 1):\n",
    "    bigram = (words[i], words[i + 1])\n",
    "    if bigram in bigram_count:\n",
    "        bigram_count[bigram] += 1\n",
    "    else:\n",
    "        bigram_count[bigram] = 1\n",
    "\n",
    "# Output bigram counts\n",
    "for bigram, count in bigram_count.items():\n",
    "    print(bigram, \":\", count)"
   ]
  },
  {
   "cell_type": "code",
   "execution_count": null,
   "id": "22bec183",
   "metadata": {},
   "outputs": [],
   "source": []
  },
  {
   "cell_type": "code",
   "execution_count": 14,
   "id": "626f9cd7",
   "metadata": {},
   "outputs": [
    {
     "name": "stdout",
     "output_type": "stream",
     "text": [
      "enter the bigram for which you want to find the probability: SASTRA UNIVERSITY\n",
      "('SASTRA', 'UNIVERSITY')\n",
      "unigram count: 4\n",
      "bigram count: 3\n",
      "0.75\n"
     ]
    }
   ],
   "source": [
    "#frequency of bigram \n",
    "skip_test = False\n",
    "text = input(\"enter the bigram for which you want to find the probability: \")\n",
    "text_list = text.split(\" \")\n",
    "print((text_list[0],text_list[1]))\n",
    "if text_list[0] in unigram_count:\n",
    "    count_of_unigram = unigram_count[text_list[0]]\n",
    "    if (text_list[0],text_list[1]) in bigram_count:\n",
    "        count_of_bigram = bigram_count[(text_list[0],text_list[1])]\n",
    "        skip_test = False\n",
    "else:\n",
    "    print(\"probability is 0\")\n",
    "    skip_test = True\n",
    "if not skip_test:\n",
    "    print(\"unigram count: \" + str(count_of_unigram))\n",
    "    print(\"bigram count: \" + str(count_of_bigram))\n",
    "    expected_prob = float(count_of_bigram/count_of_unigram)\n",
    "    print(expected_prob)"
   ]
  },
  {
   "cell_type": "code",
   "execution_count": null,
   "id": "2927bbd4",
   "metadata": {},
   "outputs": [],
   "source": []
  },
  {
   "cell_type": "code",
   "execution_count": null,
   "id": "f4c64cc1",
   "metadata": {},
   "outputs": [],
   "source": []
  }
 ],
 "metadata": {
  "kernelspec": {
   "display_name": "Python 3 (ipykernel)",
   "language": "python",
   "name": "python3"
  },
  "language_info": {
   "codemirror_mode": {
    "name": "ipython",
    "version": 3
   },
   "file_extension": ".py",
   "mimetype": "text/x-python",
   "name": "python",
   "nbconvert_exporter": "python",
   "pygments_lexer": "ipython3",
   "version": "3.11.5"
  }
 },
 "nbformat": 4,
 "nbformat_minor": 5
}
